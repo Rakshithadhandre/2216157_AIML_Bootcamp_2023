{
  "nbformat": 4,
  "nbformat_minor": 0,
  "metadata": {
    "colab": {
      "provenance": [],
      "authorship_tag": "ABX9TyPLYNWU/7Az8ZKGPPHgWqNq",
      "include_colab_link": true
    },
    "kernelspec": {
      "name": "python3",
      "display_name": "Python 3"
    },
    "language_info": {
      "name": "python"
    }
  },
  "cells": [
    {
      "cell_type": "markdown",
      "metadata": {
        "id": "view-in-github",
        "colab_type": "text"
      },
      "source": [
        "<a href=\"https://colab.research.google.com/github/Rakshithadhandre/2216157_AIML_Bootcamp_2023/blob/main/Bootcamp_day1.ipynb\" target=\"_parent\"><img src=\"https://colab.research.google.com/assets/colab-badge.svg\" alt=\"Open In Colab\"/></a>"
      ]
    },
    {
      "cell_type": "code",
      "execution_count": null,
      "metadata": {
        "id": "PR_LPlqeRQMD",
        "colab": {
          "base_uri": "https://localhost:8080/"
        },
        "outputId": "73719767-b094-4992-90ca-deb8c21f1bf5"
      },
      "outputs": [
        {
          "output_type": "stream",
          "name": "stdout",
          "text": [
            "100 500.0 Hloo Python\n",
            "10.0\n",
            "5.0\n"
          ]
        }
      ],
      "source": [
        "#variables \n",
        "a=100\n",
        "amount=500.00\n",
        "str1=\"Hloo\"\n",
        "str2=\"Python\"\n",
        "comp=10+5j #complex number\n",
        "print(a,amount,str1,str2)\n",
        "print(comp.real)\n",
        "print(comp.imag)\n"
      ]
    },
    {
      "cell_type": "code",
      "source": [
        "#Data Types\n",
        "#integer type\n",
        "a=100\n",
        "b=100.00\n",
        "\n",
        "#float type\n",
        "amount=200.00\n",
        "\n",
        "#sequence type\n",
        "li=[1,2,3,4]  #list\n",
        "tup=(1,2,3,4) #tuple\n",
        "rn=range(6) #range\n",
        "\n",
        "#set type\n",
        "set1={1,2,3,4}\n",
        "\n",
        "#mapping type\n",
        "my_dict={\"apple\":\"red\"}\n",
        "\n",
        "#nonetype\n",
        "#x=none\n",
        "\n",
        "#Binary type\n",
        "x=b\"Hello\" #byte\n",
        "x=bytearray(5) #bytearray\n",
        "x=memoryview(bytes(4)) #memory view"
      ],
      "metadata": {
        "id": "2ZWh82RH352I"
      },
      "execution_count": null,
      "outputs": []
    },
    {
      "cell_type": "code",
      "source": [
        "#Typecasting or type conversion\n",
        "#explicit conversion\n",
        "b=4\n",
        "c=7.0\n",
        "#float value to int\n",
        "d=int(c)\n",
        "e=float(b)\n",
        "print(d,e)"
      ],
      "metadata": {
        "colab": {
          "base_uri": "https://localhost:8080/"
        },
        "id": "8XM15TM03tW_",
        "outputId": "942d4087-4a1c-4f77-c86f-2a5ebc1153c6"
      },
      "execution_count": null,
      "outputs": [
        {
          "output_type": "stream",
          "name": "stdout",
          "text": [
            "7 4.0\n"
          ]
        }
      ]
    },
    {
      "cell_type": "code",
      "source": [
        "#implicit conversion\n",
        "a=4\n",
        "b=5.6\n",
        "print(a+b)"
      ],
      "metadata": {
        "colab": {
          "base_uri": "https://localhost:8080/"
        },
        "id": "QMW_72NU2moU",
        "outputId": "5f5e8840-2a0d-4538-87f6-93e929eedecb"
      },
      "execution_count": null,
      "outputs": [
        {
          "output_type": "stream",
          "name": "stdout",
          "text": [
            "9.6\n"
          ]
        }
      ]
    },
    {
      "cell_type": "code",
      "source": [
        "#convert int to char\n",
        "i=3\n",
        "s1=str(i)\n",
        "print(s1)\n",
        "j=int(s1)\n",
        "print(j)"
      ],
      "metadata": {
        "colab": {
          "base_uri": "https://localhost:8080/"
        },
        "id": "qqOuzHoj20Fz",
        "outputId": "c914f934-4eea-4da1-8394-93aa5c12af40"
      },
      "execution_count": null,
      "outputs": [
        {
          "output_type": "stream",
          "name": "stdout",
          "text": [
            "3\n",
            "3\n"
          ]
        }
      ]
    }
  ]
}