{
  "nbformat": 4,
  "nbformat_minor": 0,
  "metadata": {
    "colab": {
      "provenance": [],
      "authorship_tag": "ABX9TyONiFHlFc3avuOOfO43MxU6",
      "include_colab_link": true
    },
    "kernelspec": {
      "name": "python3",
      "display_name": "Python 3"
    },
    "language_info": {
      "name": "python"
    }
  },
  "cells": [
    {
      "cell_type": "markdown",
      "metadata": {
        "id": "view-in-github",
        "colab_type": "text"
      },
      "source": [
        "<a href=\"https://colab.research.google.com/github/Rakshithadhandre/2216157_AIML_Bootcamp_2023/blob/main/Aiml_Bootcamp_day5.ipynb\" target=\"_parent\"><img src=\"https://colab.research.google.com/assets/colab-badge.svg\" alt=\"Open In Colab\"/></a>"
      ]
    },
    {
      "cell_type": "code",
      "execution_count": 50,
      "metadata": {
        "colab": {
          "base_uri": "https://localhost:8080/"
        },
        "id": "QHoB5v_hFTWg",
        "outputId": "69d30585-1492-4567-cd32-de158db7e271"
      },
      "outputs": [
        {
          "output_type": "stream",
          "name": "stdout",
          "text": [
            "5\n",
            "4\n"
          ]
        }
      ],
      "source": [
        "#Lambda function- a small anonymous function\n",
        "#takes any number of aruguments but gives only one expresion\n",
        "def inc(x):\n",
        "  x=x+1\n",
        "  return\n",
        "print((lambda x:x+1)(4))\n",
        "inc(4)\n",
        "print((lambda x,y:x**y)(2,2))"
      ]
    },
    {
      "cell_type": "code",
      "source": [
        "x=lambda a:a+10\n",
        "print(x(5))"
      ],
      "metadata": {
        "colab": {
          "base_uri": "https://localhost:8080/"
        },
        "id": "Vxyz27wxGebZ",
        "outputId": "1097de30-5601-47ab-8374-0f7969813406"
      },
      "execution_count": 43,
      "outputs": [
        {
          "output_type": "stream",
          "name": "stdout",
          "text": [
            "15\n"
          ]
        }
      ]
    },
    {
      "cell_type": "code",
      "source": [
        "#map\n",
        "li=[1,2,3,4]\n",
        "def fun(num):\n",
        "  return num+2\n",
        "res_list=list(map(inc,li))\n",
        "print(res_list)\n",
        "print(list(map(lambda x:x+2,li)))"
      ],
      "metadata": {
        "colab": {
          "base_uri": "https://localhost:8080/"
        },
        "id": "f7tY9nP9FYKc",
        "outputId": "966f3315-50f4-4551-dc90-190549dc6d28"
      },
      "execution_count": 2,
      "outputs": [
        {
          "output_type": "stream",
          "name": "stdout",
          "text": [
            "[2, 3, 4, 5]\n",
            "[3, 4, 5, 6]\n"
          ]
        }
      ]
    },
    {
      "cell_type": "code",
      "source": [
        "l1=['apples','bananas','cherries']\n",
        "print(list(map(lambda x:x.capitalize(),l1)))"
      ],
      "metadata": {
        "colab": {
          "base_uri": "https://localhost:8080/"
        },
        "id": "K9-pqR6DGEf8",
        "outputId": "9cc3958a-fe71-4911-a717-52ca9f24dd96"
      },
      "execution_count": 13,
      "outputs": [
        {
          "output_type": "stream",
          "name": "stdout",
          "text": [
            "['Apples', 'Bananas', 'Cherries']\n"
          ]
        }
      ]
    },
    {
      "cell_type": "code",
      "source": [
        "l2= lambda a:a.lower()\n",
        "print(l2(\"HKQO\"))"
      ],
      "metadata": {
        "colab": {
          "base_uri": "https://localhost:8080/"
        },
        "id": "Vwavhmd1HIHX",
        "outputId": "743fe294-3428-485b-adb2-a2519b8d1715"
      },
      "execution_count": 15,
      "outputs": [
        {
          "output_type": "stream",
          "name": "stdout",
          "text": [
            "hkqo\n"
          ]
        }
      ]
    },
    {
      "cell_type": "code",
      "source": [
        "l3='Rakshitha'\n",
        "rev_upper=lambda string:string.upper()[::-1]\n",
        "print(rev_upper(l3))"
      ],
      "metadata": {
        "colab": {
          "base_uri": "https://localhost:8080/"
        },
        "id": "QzOvi0uSHOQe",
        "outputId": "586462aa-926b-4adc-dc4e-22a4145bc8f1"
      },
      "execution_count": 17,
      "outputs": [
        {
          "output_type": "stream",
          "name": "stdout",
          "text": [
            "AHTIHSKAR\n"
          ]
        }
      ]
    },
    {
      "cell_type": "code",
      "source": [
        "def eor(num):\n",
        "     if num%2==0:\n",
        "        return \"the number {} is even\".format(num)\n",
        "     else:\n",
        "        return \"the number {} is odd\".format(num)\n",
        "eor(20)"
      ],
      "metadata": {
        "colab": {
          "base_uri": "https://localhost:8080/",
          "height": 35
        },
        "id": "l1af5Jt-IGrG",
        "outputId": "331199ef-3619-4735-b6fa-4fe22a769115"
      },
      "execution_count": 23,
      "outputs": [
        {
          "output_type": "execute_result",
          "data": {
            "text/plain": [
              "'the number 20 is even'"
            ],
            "application/vnd.google.colaboratory.intrinsic+json": {
              "type": "string"
            }
          },
          "metadata": {},
          "execution_count": 23
        }
      ]
    },
    {
      "cell_type": "code",
      "source": [
        "l2=[1,2,3,4,5,6,7,8,9,10]\n",
        "list(map(eor,l2))"
      ],
      "metadata": {
        "colab": {
          "base_uri": "https://localhost:8080/"
        },
        "id": "DoD7xOcqIpGj",
        "outputId": "e6d2933c-6a64-4eb5-e46d-1fa9f4f8d73d"
      },
      "execution_count": 25,
      "outputs": [
        {
          "output_type": "execute_result",
          "data": {
            "text/plain": [
              "['the number 1 is odd',\n",
              " 'the number 2 is even',\n",
              " 'the number 3 is odd',\n",
              " 'the number 4 is even',\n",
              " 'the number 5 is odd',\n",
              " 'the number 6 is even',\n",
              " 'the number 7 is odd',\n",
              " 'the number 8 is even',\n",
              " 'the number 9 is odd',\n",
              " 'the number 10 is even']"
            ]
          },
          "metadata": {},
          "execution_count": 25
        }
      ]
    },
    {
      "cell_type": "code",
      "source": [
        "#filter\n",
        "def odd_num(n):\n",
        "  if n%2!=0:\n",
        "    return n\n",
        "my1=[3,6,9,4,12,343,15]\n",
        "print(list(filter(odd_num, my1)))\n",
        "my1=[3,6,9,4,12,343,15]\n",
        "print(list(filter(lambda x:x%2!=0,my1)))\n"
      ],
      "metadata": {
        "colab": {
          "base_uri": "https://localhost:8080/"
        },
        "id": "jE3Hf9_EI79z",
        "outputId": "8ce396b6-d43d-40c5-870e-c49424fbfeec"
      },
      "execution_count": 37,
      "outputs": [
        {
          "output_type": "stream",
          "name": "stdout",
          "text": [
            "[3, 9, 343, 15]\n",
            "[3, 9, 343, 15]\n"
          ]
        }
      ]
    },
    {
      "cell_type": "code",
      "source": [
        "#OOP principles\n",
        "#class and object\n",
        "class C:\n",
        "  def addn(self,a,b):\n",
        "    return a+b\n",
        "  def subn(self,a,b):\n",
        "    return a-b\n",
        "O=C()\n",
        "print(\"addition of two numbers is\",O.addn(5,5))\n",
        "print(\"substraction of two numbers is\",O.subn(10,5))"
      ],
      "metadata": {
        "colab": {
          "base_uri": "https://localhost:8080/"
        },
        "id": "u0d2rm3WKv5n",
        "outputId": "3dce7880-c498-4535-ecab-3fc023e3152f"
      },
      "execution_count": 39,
      "outputs": [
        {
          "output_type": "stream",
          "name": "stdout",
          "text": [
            "addition of two numbers is 10\n",
            "substraction of two numbers is 5\n"
          ]
        }
      ]
    },
    {
      "cell_type": "code",
      "source": [
        "#Inheritance\n",
        "#simple\n",
        "class Animal:\n",
        "  def animal_sounds(self):\n",
        "    return \"make sound\"\n",
        "class Cat(Animal):\n",
        "    def cat_sound(self):\n",
        "      return self.animal_sounds()+\" MEOW\"\n",
        "    def __str__(self):\n",
        "      return \"Cat\"\n",
        "co=Cat()\n",
        "print(co,co.cat_sound())"
      ],
      "metadata": {
        "colab": {
          "base_uri": "https://localhost:8080/"
        },
        "id": "lLfgROz7M5J3",
        "outputId": "923a3f4b-eb25-4c13-ea5f-04476318f9a6"
      },
      "execution_count": 42,
      "outputs": [
        {
          "output_type": "stream",
          "name": "stdout",
          "text": [
            "Cat make sound MEOW\n"
          ]
        }
      ]
    },
    {
      "cell_type": "code",
      "source": [
        "#Hierarchial inheritance\n",
        "class Animal:\n",
        "  def animal_sounds(self):\n",
        "    return \"make sound\"\n",
        "class cat(Animal):\n",
        "  def cat_sound(self):\n",
        "    return self.animal_sounds()+\" MEOW\"\n",
        "  def __str__(self):\n",
        "    return \"Cat\"\n",
        "class Dog(Animal):\n",
        "  def dog_sound(self):\n",
        "    return self.animal_sounds()+\" BOW\"\n",
        "  def __str__(self):\n",
        "    return \" Dog\"\n",
        "co=Cat()\n",
        "do=Dog()\n",
        "print(co,co.cat_sound())\n",
        "print(co,do.dog_sound())"
      ],
      "metadata": {
        "colab": {
          "base_uri": "https://localhost:8080/"
        },
        "id": "nw6HFShcOiwL",
        "outputId": "921008f4-3bde-4f36-e4b5-b33aeb82cebd"
      },
      "execution_count": 45,
      "outputs": [
        {
          "output_type": "stream",
          "name": "stdout",
          "text": [
            "Cat make sound MEOW\n",
            "Cat make sound BOW\n"
          ]
        }
      ]
    },
    {
      "cell_type": "code",
      "source": [
        "#Multilevel inheritance\n",
        "class Animal:\n",
        "  def animal_sounds(self):\n",
        "    return \"make sound\"\n",
        "class cat(Animal):\n",
        "  def cat_sound(self):\n",
        "    return self.animal_sounds()+\" MEOW\"\n",
        "class CatColor(Cat):\n",
        "  def __str__(self):\n",
        "    return \"cat\"\n",
        "  def color(self):\n",
        "    return \"color is black\"\n",
        "cc=CatColor()\n",
        "print(cc,cc.cat_sound())\n",
        "print(cc,cc.color())"
      ],
      "metadata": {
        "colab": {
          "base_uri": "https://localhost:8080/"
        },
        "id": "-C1O033BRjWW",
        "outputId": "0a785220-191d-4b56-b088-3caab49aee21"
      },
      "execution_count": 49,
      "outputs": [
        {
          "output_type": "stream",
          "name": "stdout",
          "text": [
            "cat make sound MEOW\n",
            "cat color is black\n"
          ]
        }
      ]
    }
  ]
}