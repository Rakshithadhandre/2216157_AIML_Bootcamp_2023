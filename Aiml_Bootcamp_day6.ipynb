{
  "nbformat": 4,
  "nbformat_minor": 0,
  "metadata": {
    "colab": {
      "provenance": [],
      "authorship_tag": "ABX9TyO1CXeYdxsBYEoIor8fVI+Y",
      "include_colab_link": true
    },
    "kernelspec": {
      "name": "python3",
      "display_name": "Python 3"
    },
    "language_info": {
      "name": "python"
    }
  },
  "cells": [
    {
      "cell_type": "markdown",
      "metadata": {
        "id": "view-in-github",
        "colab_type": "text"
      },
      "source": [
        "<a href=\"https://colab.research.google.com/github/Rakshithadhandre/2216157_AIML_Bootcamp_2023/blob/main/Aiml_Bootcamp_day6.ipynb\" target=\"_parent\"><img src=\"https://colab.research.google.com/assets/colab-badge.svg\" alt=\"Open In Colab\"/></a>"
      ]
    },
    {
      "cell_type": "code",
      "execution_count": 1,
      "metadata": {
        "id": "jBWmf4zLQFRA",
        "colab": {
          "base_uri": "https://localhost:8080/",
          "height": 200
        },
        "outputId": "035373ab-2ce9-4a32-ee41-8aef9d312cb1"
      },
      "outputs": [
        {
          "output_type": "error",
          "ename": "NameError",
          "evalue": "ignored",
          "traceback": [
            "\u001b[0;31m---------------------------------------------------------------------------\u001b[0m",
            "\u001b[0;31mNameError\u001b[0m                                 Traceback (most recent call last)",
            "\u001b[0;32m<ipython-input-1-679ffbd1306e>\u001b[0m in \u001b[0;36m<module>\u001b[0;34m\u001b[0m\n\u001b[1;32m      1\u001b[0m \u001b[0;31m#exception handling-error occured at the runtime\u001b[0m\u001b[0;34m\u001b[0m\u001b[0;34m\u001b[0m\u001b[0;34m\u001b[0m\u001b[0m\n\u001b[1;32m      2\u001b[0m \u001b[0;31m#name error\u001b[0m\u001b[0;34m\u001b[0m\u001b[0;34m\u001b[0m\u001b[0;34m\u001b[0m\u001b[0m\n\u001b[0;32m----> 3\u001b[0;31m \u001b[0mprint\u001b[0m\u001b[0;34m(\u001b[0m\u001b[0md\u001b[0m\u001b[0;34m)\u001b[0m\u001b[0;34m\u001b[0m\u001b[0;34m\u001b[0m\u001b[0m\n\u001b[0m",
            "\u001b[0;31mNameError\u001b[0m: name 'd' is not defined"
          ]
        }
      ],
      "source": [
        "#exception handling-error occured at the runtime\n",
        "#name error\n",
        "print(d)"
      ]
    },
    {
      "cell_type": "code",
      "source": [
        "#value error\n",
        "a=\"25 xyz\"\n",
        "print(int(a))"
      ],
      "metadata": {
        "id": "bdZ-x-vjQMaJ"
      },
      "execution_count": null,
      "outputs": []
    },
    {
      "cell_type": "code",
      "source": [
        "#zero division error\n",
        "d=10/0"
      ],
      "metadata": {
        "colab": {
          "base_uri": "https://localhost:8080/",
          "height": 183
        },
        "id": "_1dqK1X-QSie",
        "outputId": "0d74fb9f-8571-4e02-cc49-7ffba5ba876f"
      },
      "execution_count": null,
      "outputs": [
        {
          "output_type": "error",
          "ename": "ZeroDivisionError",
          "evalue": "ignored",
          "traceback": [
            "\u001b[0;31m---------------------------------------------------------------------------\u001b[0m",
            "\u001b[0;31mZeroDivisionError\u001b[0m                         Traceback (most recent call last)",
            "\u001b[0;32m<ipython-input-3-4fef45c7c3e4>\u001b[0m in \u001b[0;36m<module>\u001b[0;34m\u001b[0m\n\u001b[1;32m      1\u001b[0m \u001b[0;31m#zero division error\u001b[0m\u001b[0;34m\u001b[0m\u001b[0;34m\u001b[0m\u001b[0;34m\u001b[0m\u001b[0m\n\u001b[0;32m----> 2\u001b[0;31m \u001b[0md\u001b[0m\u001b[0;34m=\u001b[0m\u001b[0;36m10\u001b[0m\u001b[0;34m/\u001b[0m\u001b[0;36m0\u001b[0m\u001b[0;34m\u001b[0m\u001b[0;34m\u001b[0m\u001b[0m\n\u001b[0m",
            "\u001b[0;31mZeroDivisionError\u001b[0m: division by zero"
          ]
        }
      ]
    },
    {
      "cell_type": "code",
      "source": [
        "#key error\n",
        "myd={1:\"apples\",2:\"banana\"}\n",
        "print(myd[3])"
      ],
      "metadata": {
        "colab": {
          "base_uri": "https://localhost:8080/",
          "height": 200
        },
        "id": "oH06WQtWQtOO",
        "outputId": "cfb22e8e-0a81-4ab9-ee58-9cc32851f730"
      },
      "execution_count": null,
      "outputs": [
        {
          "output_type": "error",
          "ename": "KeyError",
          "evalue": "ignored",
          "traceback": [
            "\u001b[0;31m---------------------------------------------------------------------------\u001b[0m",
            "\u001b[0;31mKeyError\u001b[0m                                  Traceback (most recent call last)",
            "\u001b[0;32m<ipython-input-5-97079d58c775>\u001b[0m in \u001b[0;36m<module>\u001b[0;34m\u001b[0m\n\u001b[1;32m      1\u001b[0m \u001b[0;31m#key error\u001b[0m\u001b[0;34m\u001b[0m\u001b[0;34m\u001b[0m\u001b[0;34m\u001b[0m\u001b[0m\n\u001b[1;32m      2\u001b[0m \u001b[0mmyd\u001b[0m\u001b[0;34m=\u001b[0m\u001b[0;34m{\u001b[0m\u001b[0;36m1\u001b[0m\u001b[0;34m:\u001b[0m\u001b[0;34m\"apples\"\u001b[0m\u001b[0;34m,\u001b[0m\u001b[0;36m2\u001b[0m\u001b[0;34m:\u001b[0m\u001b[0;34m\"banana\"\u001b[0m\u001b[0;34m}\u001b[0m\u001b[0;34m\u001b[0m\u001b[0;34m\u001b[0m\u001b[0m\n\u001b[0;32m----> 3\u001b[0;31m \u001b[0mprint\u001b[0m\u001b[0;34m(\u001b[0m\u001b[0mmyd\u001b[0m\u001b[0;34m[\u001b[0m\u001b[0;36m3\u001b[0m\u001b[0;34m]\u001b[0m\u001b[0;34m)\u001b[0m\u001b[0;34m\u001b[0m\u001b[0;34m\u001b[0m\u001b[0m\n\u001b[0m",
            "\u001b[0;31mKeyError\u001b[0m: 3"
          ]
        }
      ]
    },
    {
      "cell_type": "code",
      "source": [
        "#index error\n",
        "li=[1,2,3,4]\n",
        "print(li[5])"
      ],
      "metadata": {
        "colab": {
          "base_uri": "https://localhost:8080/",
          "height": 200
        },
        "id": "Z_K6P5kuQwBy",
        "outputId": "8c97647a-51da-44d4-ff5b-90c67625a67d"
      },
      "execution_count": null,
      "outputs": [
        {
          "output_type": "error",
          "ename": "IndexError",
          "evalue": "ignored",
          "traceback": [
            "\u001b[0;31m---------------------------------------------------------------------------\u001b[0m",
            "\u001b[0;31mIndexError\u001b[0m                                Traceback (most recent call last)",
            "\u001b[0;32m<ipython-input-6-fdbfb0fc6ea5>\u001b[0m in \u001b[0;36m<module>\u001b[0;34m\u001b[0m\n\u001b[1;32m      1\u001b[0m \u001b[0;31m#index error\u001b[0m\u001b[0;34m\u001b[0m\u001b[0;34m\u001b[0m\u001b[0;34m\u001b[0m\u001b[0m\n\u001b[1;32m      2\u001b[0m \u001b[0mli\u001b[0m\u001b[0;34m=\u001b[0m\u001b[0;34m[\u001b[0m\u001b[0;36m1\u001b[0m\u001b[0;34m,\u001b[0m\u001b[0;36m2\u001b[0m\u001b[0;34m,\u001b[0m\u001b[0;36m3\u001b[0m\u001b[0;34m,\u001b[0m\u001b[0;36m4\u001b[0m\u001b[0;34m]\u001b[0m\u001b[0;34m\u001b[0m\u001b[0;34m\u001b[0m\u001b[0m\n\u001b[0;32m----> 3\u001b[0;31m \u001b[0mprint\u001b[0m\u001b[0;34m(\u001b[0m\u001b[0mli\u001b[0m\u001b[0;34m[\u001b[0m\u001b[0;36m5\u001b[0m\u001b[0;34m]\u001b[0m\u001b[0;34m)\u001b[0m\u001b[0;34m\u001b[0m\u001b[0;34m\u001b[0m\u001b[0m\n\u001b[0m",
            "\u001b[0;31mIndexError\u001b[0m: list index out of range"
          ]
        }
      ]
    },
    {
      "cell_type": "code",
      "source": [
        "#type error\n",
        "a=10\n",
        "b=\"10\"\n",
        "r=a/b"
      ],
      "metadata": {
        "colab": {
          "base_uri": "https://localhost:8080/",
          "height": 200
        },
        "id": "Z2dqLxg3Q6O4",
        "outputId": "eee50749-a1f4-49a0-fb41-6f7957b34e9d"
      },
      "execution_count": null,
      "outputs": [
        {
          "output_type": "error",
          "ename": "TypeError",
          "evalue": "ignored",
          "traceback": [
            "\u001b[0;31m---------------------------------------------------------------------------\u001b[0m",
            "\u001b[0;31mTypeError\u001b[0m                                 Traceback (most recent call last)",
            "\u001b[0;32m<ipython-input-7-6a081693168e>\u001b[0m in \u001b[0;36m<module>\u001b[0;34m\u001b[0m\n\u001b[1;32m      2\u001b[0m \u001b[0ma\u001b[0m\u001b[0;34m=\u001b[0m\u001b[0;36m10\u001b[0m\u001b[0;34m\u001b[0m\u001b[0;34m\u001b[0m\u001b[0m\n\u001b[1;32m      3\u001b[0m \u001b[0mb\u001b[0m\u001b[0;34m=\u001b[0m\u001b[0;34m\"10\"\u001b[0m\u001b[0;34m\u001b[0m\u001b[0;34m\u001b[0m\u001b[0m\n\u001b[0;32m----> 4\u001b[0;31m \u001b[0mr\u001b[0m\u001b[0;34m=\u001b[0m\u001b[0ma\u001b[0m\u001b[0;34m/\u001b[0m\u001b[0mb\u001b[0m\u001b[0;34m\u001b[0m\u001b[0;34m\u001b[0m\u001b[0m\n\u001b[0m",
            "\u001b[0;31mTypeError\u001b[0m: unsupported operand type(s) for /: 'int' and 'str'"
          ]
        }
      ]
    },
    {
      "cell_type": "code",
      "source": [
        "#NameError exceptional handling\n",
        "try:\n",
        "  print(x)\n",
        "except NameError as ne:\n",
        "  print(\"testcase1:\",ne)\n",
        "print(\"executed\")"
      ],
      "metadata": {
        "colab": {
          "base_uri": "https://localhost:8080/"
        },
        "id": "4Fg8QyDbR0W0",
        "outputId": "43f4493f-e26c-4371-eda6-70db850852c9"
      },
      "execution_count": 33,
      "outputs": [
        {
          "output_type": "stream",
          "name": "stdout",
          "text": [
            "testcase1: name 'x' is not defined\n",
            "executed\n"
          ]
        }
      ]
    },
    {
      "cell_type": "code",
      "source": [
        "#index error using exceptions\n",
        "x=[1,2,3,4,5]\n",
        "try:\n",
        "  print(x[10])\n",
        "except IndexError as e:\n",
        "  print(f\"{e}\")\n",
        "   #or\n",
        "#IndexError exceptional handling\n",
        "li=[1,2,3,4]\n",
        "try:\n",
        "  print(li[5])\n",
        "except IndexError as ie:\n",
        "  print(\"testcase1:\",ie)\n",
        "print(\"executed\")"
      ],
      "metadata": {
        "colab": {
          "base_uri": "https://localhost:8080/"
        },
        "id": "ei9K8S82SlQd",
        "outputId": "fd0e6034-5413-497e-fd3c-cdd6fdf94cae"
      },
      "execution_count": null,
      "outputs": [
        {
          "output_type": "stream",
          "name": "stdout",
          "text": [
            "list index out of range\n",
            "testcase1: list index out of range\n",
            "executed\n"
          ]
        }
      ]
    },
    {
      "cell_type": "code",
      "source": [
        "#TypeError exceptional handling\n",
        "a=10\n",
        "b=\"10\"\n",
        " \n",
        "try:\n",
        "  print(a==b)\n",
        "except TypeError as te:\n",
        "  print(\"testcase1:\",te)\n",
        "print(\"executed\")\n",
        "     "
      ],
      "metadata": {
        "id": "QEOlD804Tlck",
        "colab": {
          "base_uri": "https://localhost:8080/"
        },
        "outputId": "886d79d7-566f-4dfc-9475-f4cff0d1261d"
      },
      "execution_count": null,
      "outputs": [
        {
          "output_type": "stream",
          "name": "stdout",
          "text": [
            "False\n",
            "executed\n"
          ]
        }
      ]
    },
    {
      "cell_type": "code",
      "source": [
        "#value error exceptional handling\n",
        "a=\"15 xyz\"\n",
        " \n",
        "try:\n",
        "  print(int(a))\n",
        "except ValueError as ve:\n",
        "  print(\"testcase1:\",ve)\n",
        "print(\"executed\")"
      ],
      "metadata": {
        "colab": {
          "base_uri": "https://localhost:8080/"
        },
        "id": "SmaLJQ7a-rYu",
        "outputId": "de7939d2-bb40-4df4-cb29-ad275f60d9e9"
      },
      "execution_count": null,
      "outputs": [
        {
          "output_type": "stream",
          "name": "stdout",
          "text": [
            "testcase1: invalid literal for int() with base 10: '15 xyz'\n",
            "executed\n"
          ]
        }
      ]
    },
    {
      "cell_type": "code",
      "source": [
        "#key error exceptional handling\n",
        "myd={1:\"apples\",2:\"banana\"}\n",
        "try:\n",
        "     print(myd[3])\n",
        "except KeyError as k:\n",
        "  print(\"testcase:\",k)\n",
        "  print(\"executed\")\n",
        "  "
      ],
      "metadata": {
        "colab": {
          "base_uri": "https://localhost:8080/"
        },
        "id": "bpBcfhxjUKvH",
        "outputId": "69bf6d06-60b2-4a2e-fee7-ac86d253aa43"
      },
      "execution_count": 2,
      "outputs": [
        {
          "output_type": "stream",
          "name": "stdout",
          "text": [
            "testcase: 3\n",
            "executed\n"
          ]
        }
      ]
    },
    {
      "cell_type": "code",
      "source": [
        "class INVALIDSTUD_ID(Exception):\n",
        "  def __str__(self):\n",
        "    return \"ERROR RAISED\"\n",
        "id=input(\"ENTER STUDENT ID:\")\n",
        "try:\n",
        "  if(id[:4]!='2216'):\n",
        "    raise INVALIDSTUD_ID\n",
        "  else:\n",
        "    print(\"Verified\")\n",
        "except INVALIDSTUD_ID as i:\n",
        "  print(i)\n",
        "print(\"details checked\")\n"
      ],
      "metadata": {
        "colab": {
          "base_uri": "https://localhost:8080/"
        },
        "id": "naz43c1QXGL2",
        "outputId": "9137ff54-ab9f-495e-c3c4-243998496df7"
      },
      "execution_count": null,
      "outputs": [
        {
          "output_type": "stream",
          "name": "stdout",
          "text": [
            "ENTER STUDENT ID:2216157\n",
            "Verified\n",
            "details checked\n"
          ]
        }
      ]
    },
    {
      "cell_type": "code",
      "source": [
        "#Age exception\n",
        "class INVALIDAGE(Exception):\n",
        "  def __str__(self):\n",
        "    return \"invalid age\"\n",
        "age=int(input(\"ENTER AGE:\"))\n",
        "try:\n",
        "  if age<18:\n",
        "    raise INVALIDAGE\n",
        "  else:\n",
        "    print(\"valid age\")\n",
        "except INVALIDAGE as i:\n",
        "  print(i)\n",
        "print(\"Executed\")"
      ],
      "metadata": {
        "colab": {
          "base_uri": "https://localhost:8080/"
        },
        "id": "qtWHbeBn_jPN",
        "outputId": "f5d67e6f-8feb-4818-80f4-69a50d2b7c07"
      },
      "execution_count": 3,
      "outputs": [
        {
          "output_type": "stream",
          "name": "stdout",
          "text": [
            "ENTER AGE:21\n",
            "valid age\n",
            "Executed\n"
          ]
        }
      ]
    },
    {
      "cell_type": "code",
      "source": [
        "#modules\n",
        "#os module\n",
        "import os\n",
        "#os.mkdir(\"hi\")\n",
        "#os.chdir(\"hi\")\n",
        "os.getcwd()\n",
        "#current working directory-gets lists of directories\n",
        "os.listdir() #list of directory\n",
        "os.rmdir(\"/content/hi\")#used to remove created dir \"hi\""
      ],
      "metadata": {
        "id": "2l1Lc-9zYvL8"
      },
      "execution_count": null,
      "outputs": []
    },
    {
      "cell_type": "code",
      "source": [
        "#math module\n",
        "import math as m \n",
        "print(m.pi)\n",
        "print(m.e)\n",
        "print(m.sqrt(4))\n",
        "print(m.factorial(5))\n",
        "print(m.pow(5,5))\n",
        "print(m.floor(-3.11))\n",
        "print(m.tan(5))\n",
        "print(m.log(3))"
      ],
      "metadata": {
        "colab": {
          "base_uri": "https://localhost:8080/"
        },
        "id": "6hV9g3qqZv96",
        "outputId": "118e2b02-645b-423e-b994-e741ec55a376"
      },
      "execution_count": null,
      "outputs": [
        {
          "output_type": "stream",
          "name": "stdout",
          "text": [
            "3.141592653589793\n",
            "2.718281828459045\n",
            "2.0\n",
            "120\n",
            "3125.0\n",
            "-4\n",
            "-3.380515006246586\n",
            "1.0986122886681098\n"
          ]
        }
      ]
    },
    {
      "cell_type": "code",
      "source": [
        "#sys module\n",
        "import sys\n",
        "print(sys.path)\n",
        "print(sys.version)\n",
        "print(sys.maxsize)\n",
        "#print(sys.copyright)"
      ],
      "metadata": {
        "colab": {
          "base_uri": "https://localhost:8080/"
        },
        "id": "Jjjo0KFeaYc-",
        "outputId": "385a318e-7b62-4c35-f3fd-c26d08799fbd"
      },
      "execution_count": null,
      "outputs": [
        {
          "output_type": "stream",
          "name": "stdout",
          "text": [
            "['/content', '/env/python', '/usr/lib/python38.zip', '/usr/lib/python3.8', '/usr/lib/python3.8/lib-dynload', '', '/usr/local/lib/python3.8/dist-packages', '/usr/lib/python3/dist-packages', '/usr/local/lib/python3.8/dist-packages/IPython/extensions', '/root/.ipython']\n",
            "3.8.10 (default, Nov 14 2022, 12:59:47) \n",
            "[GCC 9.4.0]\n",
            "9223372036854775807\n"
          ]
        }
      ]
    },
    {
      "cell_type": "code",
      "source": [
        "#statistics module\n",
        "import statistics as s\n",
        "print(s.mean([21,4,5,6,7,8,20,24]))\n",
        "print(s.median([1,2,3,4,5]))\n",
        "print(s.mode([1,2,3,4,5,6,6,7,8,9]))"
      ],
      "metadata": {
        "colab": {
          "base_uri": "https://localhost:8080/"
        },
        "id": "XuGlr_k8a7Ad",
        "outputId": "368d0c54-c566-4342-890e-21b5ed356b9e"
      },
      "execution_count": null,
      "outputs": [
        {
          "output_type": "stream",
          "name": "stdout",
          "text": [
            "11.875\n",
            "3\n",
            "6\n"
          ]
        }
      ]
    },
    {
      "cell_type": "code",
      "source": [
        "#random module-creates games\n",
        "import random as r\n",
        "print(r.randrange(1,55))\n",
        "print(r.randint(1,100))\n",
        "print(r.random())"
      ],
      "metadata": {
        "colab": {
          "base_uri": "https://localhost:8080/"
        },
        "id": "cVUEXghxbW-7",
        "outputId": "c74747d8-cc5f-4519-ad2e-1291db617967"
      },
      "execution_count": null,
      "outputs": [
        {
          "output_type": "stream",
          "name": "stdout",
          "text": [
            "15\n",
            "26\n",
            "0.023735192008326966\n"
          ]
        }
      ]
    },
    {
      "cell_type": "code",
      "source": [
        "import random \n",
        "guess_no=int(input(\"predict a number\"))\n",
        "G=random.randint(1,5)\n",
        "if G==guess_no:\n",
        "  print(\"you won\")\n",
        "else:\n",
        "  print(\"you lose\")\n",
        "     "
      ],
      "metadata": {
        "colab": {
          "base_uri": "https://localhost:8080/"
        },
        "id": "2Clvs645Aptp",
        "outputId": "cd5694d4-9e3a-48ff-f0a4-2309e85b2825"
      },
      "execution_count": null,
      "outputs": [
        {
          "output_type": "stream",
          "name": "stdout",
          "text": [
            "predict a number5\n",
            "you lose\n"
          ]
        }
      ]
    },
    {
      "cell_type": "code",
      "source": [
        "#checking email is valid or not\n",
        "import re    \n",
        "def check(email):   \n",
        "    if(re.search(regex,email)):   \n",
        "        print(\"Valid Email\")   \n",
        "    else:   \n",
        "        print(\"Invalid Email\")   \n",
        "if __name__ == '__main__' :   \n",
        "    email = \"dr@gmail.com\"  \n",
        "    check(email)\n",
        "    email=\"drgmail.com\"\n",
        "    check(email)\n",
        " "
      ],
      "metadata": {
        "colab": {
          "base_uri": "https://localhost:8080/"
        },
        "id": "4zg1bmWwA1Fq",
        "outputId": "574f67e6-87c8-40a1-a10f-9224ea67b0c5"
      },
      "execution_count": 32,
      "outputs": [
        {
          "output_type": "stream",
          "name": "stdout",
          "text": [
            "Valid Email\n",
            "Invalid Email\n"
          ]
        }
      ]
    }
  ]
}