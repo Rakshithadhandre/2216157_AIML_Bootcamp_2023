{
  "nbformat": 4,
  "nbformat_minor": 0,
  "metadata": {
    "colab": {
      "provenance": [],
      "authorship_tag": "ABX9TyMoN6y7VIDSa/QP4H931VkC",
      "include_colab_link": true
    },
    "kernelspec": {
      "name": "python3",
      "display_name": "Python 3"
    },
    "language_info": {
      "name": "python"
    }
  },
  "cells": [
    {
      "cell_type": "markdown",
      "metadata": {
        "id": "view-in-github",
        "colab_type": "text"
      },
      "source": [
        "<a href=\"https://colab.research.google.com/github/Rakshithadhandre/2216157_AIML_Bootcamp_2023/blob/main/Aiml_Bootcamp_Assignment1.ipynb\" target=\"_parent\"><img src=\"https://colab.research.google.com/assets/colab-badge.svg\" alt=\"Open In Colab\"/></a>"
      ]
    },
    {
      "cell_type": "code",
      "execution_count": 128,
      "metadata": {
        "colab": {
          "base_uri": "https://localhost:8080/"
        },
        "id": "YKTyMbyfQ-mG",
        "outputId": "dd5a0a3d-8427-4747-d704-deaac28ec71d"
      },
      "outputs": [
        {
          "output_type": "stream",
          "name": "stdout",
          "text": [
            "Gradstellar aiml bootcamp!\n",
            "False\n",
            "True\n",
            "g_r_a_d_s_t_e_l_l_a_r_ _A_i_m_l_ _B_o_o_t_c_a_m_p_!\n",
            " Aiml Bootcamp!\n",
            "2\n"
          ]
        }
      ],
      "source": [
        "#String Methods\n",
        "str= \"gradstellar Aiml Bootcamp!\"\n",
        "print(str.capitalize())\n",
        "print(str.istitle())\n",
        "print(str.endswith(\"!\"))\n",
        "print(\"_\".join(str))\n",
        "print(str.replace(\"gradstellar\",\"\"))\n",
        "\n",
        "str1=\"she is a good singer and good dancer\"\n",
        "print(str1.count(\"good\"))#Returns number of times a value occurs in a string"
      ]
    },
    {
      "cell_type": "code",
      "source": [
        "#List methods\n",
        "list=['1', '2','3','4']\n",
        "list.insert(2,'8')\n",
        "print(list)\n",
        "list.reverse()\n",
        "print(list)\n",
        "print(sorted(list))\n",
        "list.append('5')\n",
        "print(list)\n",
        "print(list.pop(4),list)\n",
        "print(list.index('3'))\n",
        "print(list.clear())"
      ],
      "metadata": {
        "colab": {
          "base_uri": "https://localhost:8080/"
        },
        "id": "dq_p7H3wXQGk",
        "outputId": "48f334f7-583f-41cf-ec21-cdb207a60832"
      },
      "execution_count": 129,
      "outputs": [
        {
          "output_type": "stream",
          "name": "stdout",
          "text": [
            "['1', '2', '8', '3', '4']\n",
            "['4', '3', '8', '2', '1']\n",
            "['1', '2', '3', '4', '8']\n",
            "['4', '3', '8', '2', '1', '5']\n",
            "1 ['4', '3', '8', '2', '5']\n",
            "1\n",
            "None\n"
          ]
        }
      ]
    },
    {
      "cell_type": "code",
      "source": [
        "#Tuple methods\n",
        "tup=(1,5,6,3.5,7,5,9.55,10)\n",
        "tup1=(4,\"Hii\",\"Hello\",tup)\n",
        "tup2=(\"Python\",3,1,6.7,tup1,tup)\n",
        "n_tup=(3,\"Assignment\",tup1,tup,tup2)\n",
        "print(tup.count(5))\n",
        "print(tup.index(3.5))\n",
        "print(n_tup[-1][-2][-1][0])\n",
        "print(max(tup))\n",
        "print(min(tup))\n",
        "print(len(tup))\n",
        "\n"
      ],
      "metadata": {
        "colab": {
          "base_uri": "https://localhost:8080/"
        },
        "id": "4pyg3gKU2_6Y",
        "outputId": "6efe1512-2ef5-421c-95f3-a8181afd95eb"
      },
      "execution_count": 130,
      "outputs": [
        {
          "output_type": "stream",
          "name": "stdout",
          "text": [
            "2\n",
            "3\n",
            "1\n",
            "10\n",
            "1\n",
            "8\n"
          ]
        }
      ]
    },
    {
      "cell_type": "code",
      "source": [
        "#Dictionary methods\n",
        "dict={\"name\":\"Rakshitha\",\"rno\":\"1018\"}\n",
        "print(dict[\"name\"])\n",
        "print(dict.keys())\n",
        "print(dict.values())\n",
        "print(dict.get(\"rno\"))\n",
        "dict.update({\"branch\":\"Cse\"})\n",
        "print(dict)\n",
        "dict.pop(\"rno\")\n",
        "print(dict)\n",
        "print(dict.items())\n",
        "print(dict.clear())\n"
      ],
      "metadata": {
        "colab": {
          "base_uri": "https://localhost:8080/"
        },
        "id": "F1V0ogzY30M9",
        "outputId": "45b7a111-8bf7-4f9e-d6b5-154aaea064ea"
      },
      "execution_count": 131,
      "outputs": [
        {
          "output_type": "stream",
          "name": "stdout",
          "text": [
            "Rakshitha\n",
            "dict_keys(['name', 'rno'])\n",
            "dict_values(['Rakshitha', '1018'])\n",
            "1018\n",
            "{'name': 'Rakshitha', 'rno': '1018', 'branch': 'Cse'}\n",
            "{'name': 'Rakshitha', 'branch': 'Cse'}\n",
            "dict_items([('name', 'Rakshitha'), ('branch', 'Cse')])\n",
            "None\n"
          ]
        }
      ]
    },
    {
      "cell_type": "code",
      "source": [
        "#Set methods\n",
        "set1={\"apple\", \"banana\", \"cherry\",\"mango\"}\n",
        "set2={\"1\",\"2\",\"3\",\"mango\"}\n",
        "x=set1.copy()\n",
        "print(x)\n",
        "z=set1.difference(set2)\n",
        "print(z)\n",
        "y=set1.intersection(set2)\n",
        "print(y)\n",
        "z = set1.issubset(set2) \n",
        "print(z)\n",
        "set1.add(\"orange\")\n",
        "print(set1)\n",
        "set1.discard(\"banana\")\n",
        "print(set1)\n"
      ],
      "metadata": {
        "colab": {
          "base_uri": "https://localhost:8080/"
        },
        "id": "gertXWN336bi",
        "outputId": "3ef35de4-24f0-4c7b-8b27-cebde46acbfa"
      },
      "execution_count": 132,
      "outputs": [
        {
          "output_type": "stream",
          "name": "stdout",
          "text": [
            "{'cherry', 'apple', 'mango', 'banana'}\n",
            "{'cherry', 'apple', 'banana'}\n",
            "{'mango'}\n",
            "False\n",
            "{'apple', 'cherry', 'mango', 'banana', 'orange'}\n",
            "{'apple', 'cherry', 'mango', 'orange'}\n"
          ]
        }
      ]
    },
    {
      "cell_type": "code",
      "source": [
        "#python program to convert Decimal to Binary, Octal and Hexadecimal with direct method\n",
        "#decimal to binary\n",
        "x=55\n",
        "print(bin(x))\n",
        "#decimal to hexadecimal\n",
        "print(hex(x))\n",
        "#decimal to octadecimal\n",
        "print(oct(x))"
      ],
      "metadata": {
        "colab": {
          "base_uri": "https://localhost:8080/"
        },
        "id": "2TuYt4lyQiN4",
        "outputId": "3230e636-f0ef-4f08-c109-1116f9363466"
      },
      "execution_count": 133,
      "outputs": [
        {
          "output_type": "stream",
          "name": "stdout",
          "text": [
            "0b110111\n",
            "0x37\n",
            "0o67\n"
          ]
        }
      ]
    },
    {
      "cell_type": "code",
      "source": [
        "#Arithmetic operators\n",
        "print(\"arithmetic operators\")\n",
        "a=15\n",
        "b=5\n",
        "print(\"a:\",a)\n",
        "print(\"b:\",b)\n",
        "print(\"a+b:\",a+b)\n",
        "print(\"a-b:\",a-b)\n",
        "print(\"a/b:\",a/b)\n",
        "print(\"a%b:\",a%b)\n",
        "print(\"a*b:\",a*b)\n",
        "print(\"a**b:\",a**b)#powers\n",
        "print(\"a//b:\",a//b)"
      ],
      "metadata": {
        "colab": {
          "base_uri": "https://localhost:8080/"
        },
        "id": "O_mngSBkReJ7",
        "outputId": "3c2d2c2f-acf1-4480-e52e-68d72e668c20"
      },
      "execution_count": 134,
      "outputs": [
        {
          "output_type": "stream",
          "name": "stdout",
          "text": [
            "arithmetic operators\n",
            "a: 15\n",
            "b: 5\n",
            "a+b: 20\n",
            "a-b: 10\n",
            "a/b: 3.0\n",
            "a%b: 0\n",
            "a*b: 75\n",
            "a**b: 759375\n",
            "a//b: 3\n"
          ]
        }
      ]
    },
    {
      "cell_type": "code",
      "source": [
        "#Assignment operators\n",
        "a=18\n",
        "b=5\n",
        "b-=3\n",
        "print(b)\n",
        "a/=3\n",
        "print(a)\n",
        "a%=3\n",
        "print(a)\n",
        "b&=3\n",
        "print(b)\n",
        "b**= 3\n",
        "print(b)"
      ],
      "metadata": {
        "colab": {
          "base_uri": "https://localhost:8080/"
        },
        "id": "YWL8gGeqSDXE",
        "outputId": "7bbf0f3f-a98c-43fd-e060-71cc6395d914"
      },
      "execution_count": 135,
      "outputs": [
        {
          "output_type": "stream",
          "name": "stdout",
          "text": [
            "2\n",
            "6.0\n",
            "0.0\n",
            "2\n",
            "8\n"
          ]
        }
      ]
    },
    {
      "cell_type": "code",
      "source": [
        "#Comparison operators\n",
        "a=15\n",
        "b=3\n",
        "print(a==b)\n",
        "print(a<=b)\n",
        "print(a>=b)\n",
        "print(a!=b)\n",
        "#print(a<>b)"
      ],
      "metadata": {
        "colab": {
          "base_uri": "https://localhost:8080/"
        },
        "id": "ViAsoFVzSDnR",
        "outputId": "f015b185-1f59-4768-94c7-bf7121a4be7c"
      },
      "execution_count": 138,
      "outputs": [
        {
          "output_type": "stream",
          "name": "stdout",
          "text": [
            "False\n",
            "False\n",
            "True\n",
            "True\n"
          ]
        }
      ]
    },
    {
      "cell_type": "code",
      "source": [
        "#Logical operators \n",
        "T=True\n",
        "F=False\n",
        "print(\"T and F is:\",T and F)\n",
        "print(\"T or F is:\",T or F)\n",
        "print(\"T not F is:\",not F)"
      ],
      "metadata": {
        "colab": {
          "base_uri": "https://localhost:8080/"
        },
        "id": "7hGiCitrSD30",
        "outputId": "8e3bbdfc-b956-4e2b-ee19-b8a3b676eb58"
      },
      "execution_count": 139,
      "outputs": [
        {
          "output_type": "stream",
          "name": "stdout",
          "text": [
            "T and F is: False\n",
            "T or F is: True\n",
            "T not F is: True\n"
          ]
        }
      ]
    },
    {
      "cell_type": "code",
      "source": [
        "#Bitwise operators\n",
        "a=12\n",
        "b=13\n",
        "print(a&b)\n",
        "print(a|b)\n",
        "print(~a) #not\n",
        "print(a^b) #xor\n",
        "print(a>>2) #right shift\n",
        "print(a<<2) #left shift"
      ],
      "metadata": {
        "colab": {
          "base_uri": "https://localhost:8080/"
        },
        "id": "zYdj6lukSEDo",
        "outputId": "13677a31-ff60-4a5a-bd08-c02b9fd69d99"
      },
      "execution_count": 140,
      "outputs": [
        {
          "output_type": "stream",
          "name": "stdout",
          "text": [
            "12\n",
            "13\n",
            "-13\n",
            "1\n",
            "3\n",
            "48\n"
          ]
        }
      ]
    },
    {
      "cell_type": "code",
      "source": [
        "#Membership operators\n",
        "x=\"AIML BootCamp\"\n",
        "print(\"B\"in x)\n",
        "print(\"c\" in x)"
      ],
      "metadata": {
        "colab": {
          "base_uri": "https://localhost:8080/"
        },
        "id": "ObIyn1gPefru",
        "outputId": "9540d251-7311-4336-922e-2afa2a1c7595"
      },
      "execution_count": 141,
      "outputs": [
        {
          "output_type": "stream",
          "name": "stdout",
          "text": [
            "True\n",
            "False\n"
          ]
        }
      ]
    },
    {
      "cell_type": "code",
      "source": [
        "#Identity operators \n",
        "a=5\n",
        "b=5\n",
        "x=\"Hello\"\n",
        "y=\"Hello\"\n",
        "i=[1,2,3]\n",
        "j=[1,2,3]\n",
        "print(a is not b)\n",
        "print(x is y)\n",
        "print(i is y)"
      ],
      "metadata": {
        "colab": {
          "base_uri": "https://localhost:8080/"
        },
        "id": "YPzvHKNwevpd",
        "outputId": "3be75376-98b0-4093-8a9b-471ff892b534"
      },
      "execution_count": 142,
      "outputs": [
        {
          "output_type": "stream",
          "name": "stdout",
          "text": [
            "False\n",
            "True\n",
            "False\n"
          ]
        }
      ]
    },
    {
      "cell_type": "code",
      "source": [
        "#Negative indexing for List and apply slicing\n",
        "#Lists\n",
        "l=[1,2,3,4,\"Hello\",5.2,9,13]\n",
        "l1=[3.9,l]\n",
        "l2=[\"apple\",\"banana\",\"cherry\",l,l1]\n",
        "print(l[::1])\n",
        "print(l2[1]) \n",
        "print(l1[-1::2])\n",
        "print(l2[-5::1])\n",
        "\n",
        "     "
      ],
      "metadata": {
        "colab": {
          "base_uri": "https://localhost:8080/"
        },
        "id": "J3tRgVyTf1tg",
        "outputId": "4086aeb3-b975-40c1-b463-aef2cdf66a7e"
      },
      "execution_count": 162,
      "outputs": [
        {
          "output_type": "stream",
          "name": "stdout",
          "text": [
            "[1, 2, 3, 4, 'Hello', 5.2, 9, 13]\n",
            "banana\n",
            "[[1, 2, 3, 4, 'Hello', 5.2, 9, 13]]\n",
            "['apple', 'banana', 'cherry', [1, 2, 3, 4, 'Hello', 5.2, 9, 13], [3.9, [1, 2, 3, 4, 'Hello', 5.2, 9, 13]]]\n"
          ]
        }
      ]
    },
    {
      "cell_type": "code",
      "source": [
        "#reverse the string and prints the 3rd letter starting from 4th at last(from 0)\n",
        "print('A series of characters designated as one object known as a string'[::-1][4::3])\n",
        "print('-----------')\n",
        "print('welcome to python training program'[3:10][::-1])"
      ],
      "metadata": {
        "colab": {
          "base_uri": "https://localhost:8080/"
        },
        "id": "koc8Eal7D1vy",
        "outputId": "d7c48dad-80b7-4558-d0c0-e3a15c9eb7fe"
      },
      "execution_count": null,
      "outputs": [
        {
          "output_type": "stream",
          "name": "stdout",
          "text": [
            "taawkcbe  tgestrcoeeA\n",
            "-----------\n",
            "ot emoc\n"
          ]
        }
      ]
    },
    {
      "cell_type": "code",
      "source": [
        "p_phase='was it a car or a cat I saw'[::-1]\n",
        "print(p_phase.upper())\n"
      ],
      "metadata": {
        "colab": {
          "base_uri": "https://localhost:8080/"
        },
        "id": "fPpOoIdaV2_q",
        "outputId": "00489b4e-e397-4b09-9a03-62fde163402b"
      },
      "execution_count": null,
      "outputs": [
        {
          "output_type": "stream",
          "name": "stdout",
          "text": [
            "WAS I TAC A RO RAC A TI SAW\n"
          ]
        }
      ]
    },
    {
      "cell_type": "code",
      "source": [
        "#generate a word similar to ZOO, X and Y that denote the number of Zs and Os respectively. \n",
        "#The generated word similar to ZOO where Y= 2 * X. \n",
        "X=2\n",
        "print(X*'Z'+2*X*'O')\n",
        "X=5\n",
        "print(X*'Z'+2*X*'O')\n"
      ],
      "metadata": {
        "colab": {
          "base_uri": "https://localhost:8080/"
        },
        "id": "3qGu8VhdV3Gh",
        "outputId": "0a7e848e-6cb0-4312-e0b0-2843d1317877"
      },
      "execution_count": 119,
      "outputs": [
        {
          "output_type": "stream",
          "name": "stdout",
          "text": [
            "ZZOOOO\n",
            "ZZZZZOOOOOOOOOO\n"
          ]
        }
      ]
    },
    {
      "cell_type": "code",
      "source": [
        "#join()-Join all items in a tuple into a string\n",
        "l1=['H','e','l','l','o']\n",
        "print(\"\".join(l1))\n",
        "list=[\"Hii\",\"I am\",\"Attending\",\"Bootcamp\"]\n",
        "print(\" \".join(list))"
      ],
      "metadata": {
        "colab": {
          "base_uri": "https://localhost:8080/"
        },
        "id": "TZkZ9UKRAR5h",
        "outputId": "ccddb5de-f167-41f6-dd03-a1d7db9f0008"
      },
      "execution_count": 169,
      "outputs": [
        {
          "output_type": "stream",
          "name": "stdout",
          "text": [
            "Hello\n",
            "Hii I am Attending Bootcamp\n"
          ]
        }
      ]
    },
    {
      "cell_type": "code",
      "source": [
        "#ord()-gives ASCII of a character\n",
        "c=input(\"enter value:\")\n",
        "print(ord(c))\n",
        "     "
      ],
      "metadata": {
        "colab": {
          "base_uri": "https://localhost:8080/"
        },
        "id": "n28qotow-eiB",
        "outputId": "7af8feeb-ddb7-43ea-967f-75321fab05a8"
      },
      "execution_count": 167,
      "outputs": [
        {
          "output_type": "stream",
          "name": "stdout",
          "text": [
            "enter value:r\n",
            "114\n"
          ]
        }
      ]
    }
  ]
}