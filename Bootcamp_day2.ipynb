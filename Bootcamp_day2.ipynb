{
  "nbformat": 4,
  "nbformat_minor": 0,
  "metadata": {
    "colab": {
      "provenance": [],
      "authorship_tag": "ABX9TyOBR6yv9qvlfT5uRMXMveS5",
      "include_colab_link": true
    },
    "kernelspec": {
      "name": "python3",
      "display_name": "Python 3"
    },
    "language_info": {
      "name": "python"
    }
  },
  "cells": [
    {
      "cell_type": "markdown",
      "metadata": {
        "id": "view-in-github",
        "colab_type": "text"
      },
      "source": [
        "<a href=\"https://colab.research.google.com/github/Rakshithadhandre/2216157_AIML_Bootcamp_2023/blob/main/Bootcamp_day2.ipynb\" target=\"_parent\"><img src=\"https://colab.research.google.com/assets/colab-badge.svg\" alt=\"Open In Colab\"/></a>"
      ]
    },
    {
      "cell_type": "code",
      "execution_count": null,
      "metadata": {
        "id": "2dBq69RP_H6x",
        "colab": {
          "base_uri": "https://localhost:8080/"
        },
        "outputId": "31e7ac95-1278-4a56-84af-18aaf627262f"
      },
      "outputs": [
        {
          "output_type": "stream",
          "name": "stdout",
          "text": [
            "arithmetic operators\n",
            "a: 15\n",
            "b: 5\n",
            "a+b: 20\n",
            "a-b: 10\n",
            "a/b: 3.0\n",
            "a%b: 0\n",
            "a*b: 75\n",
            "a**b: 759375\n",
            "a//b: 3\n"
          ]
        }
      ],
      "source": [
        "#operators\n",
        "print(\"arithmetic operators\")\n",
        "a=15\n",
        "b=5\n",
        "print(\"a:\",a)\n",
        "print(\"b:\",b)\n",
        "print(\"a+b:\",a+b)\n",
        "print(\"a-b:\",a-b)\n",
        "print(\"a/b:\",a/b)\n",
        "print(\"a%b:\",a%b)\n",
        "print(\"a*b:\",a*b)\n",
        "print(\"a**b:\",a**b)#powers\n",
        "print(\"a//b:\",a//b)"
      ]
    },
    {
      "cell_type": "code",
      "source": [
        "#comparision operators\n",
        "a=3\n",
        "b=5\n",
        "print(a==b)\n",
        "print(a<=b)\n",
        "print(a>=b)\n",
        "print(a<<b)\n",
        "print(a>>b)\n",
        "print(a!=b)\n"
      ],
      "metadata": {
        "colab": {
          "base_uri": "https://localhost:8080/"
        },
        "id": "EyeoPgLz5X0U",
        "outputId": "436743c2-8660-48ed-f340-a5a54d906277"
      },
      "execution_count": null,
      "outputs": [
        {
          "output_type": "stream",
          "name": "stdout",
          "text": [
            "False\n",
            "True\n",
            "False\n",
            "96\n",
            "0\n",
            "True\n"
          ]
        }
      ]
    },
    {
      "cell_type": "code",
      "source": [
        "a=21\n",
        "print(\"a<<2\",a<<1) #right shift a will shifts 2 times farword\n"
      ],
      "metadata": {
        "colab": {
          "base_uri": "https://localhost:8080/"
        },
        "id": "sYY3ROXs7a6E",
        "outputId": "a81c7b27-7933-4b28-81c1-57ccfac6f455"
      },
      "execution_count": null,
      "outputs": [
        {
          "output_type": "stream",
          "name": "stdout",
          "text": [
            "a<<2 42\n"
          ]
        }
      ]
    },
    {
      "cell_type": "code",
      "source": [
        "#assignment operators\n",
        "a=18\n",
        "b=5\n",
        "c=a+b\n",
        "print(c)\n",
        "c-=a\n",
        "print(c)"
      ],
      "metadata": {
        "colab": {
          "base_uri": "https://localhost:8080/"
        },
        "id": "6oFyXj9X--jT",
        "outputId": "649c57da-464e-4448-a950-c8123e7ee4d4"
      },
      "execution_count": null,
      "outputs": [
        {
          "output_type": "stream",
          "name": "stdout",
          "text": [
            "23\n",
            "5\n"
          ]
        }
      ]
    },
    {
      "cell_type": "code",
      "source": [
        "#logical operators\n",
        "x=True\n",
        "y=False\n",
        "print(\"x and y is:\",x and y)\n",
        "print(\"x or y is:\",x or y)\n",
        "print(\"x not y is:\",not y)"
      ],
      "metadata": {
        "colab": {
          "base_uri": "https://localhost:8080/"
        },
        "id": "Db140x6Q-1WE",
        "outputId": "5c119b93-1bff-49a8-e6f6-fa0dc354c834"
      },
      "execution_count": null,
      "outputs": [
        {
          "output_type": "stream",
          "name": "stdout",
          "text": [
            "x and y is: False\n",
            "x or y is: True\n",
            "x not y is: True\n"
          ]
        }
      ]
    },
    {
      "cell_type": "code",
      "source": [
        "#Bitwise operators\n",
        "a=13\n",
        "b=14\n",
        "print(a&b)\n",
        "print(a|b)\n",
        "print(~a) #not\n",
        "print(a^b) #xor\n",
        "print(a>>2) #right shift\n",
        "print(a<<2) #left shift"
      ],
      "metadata": {
        "colab": {
          "base_uri": "https://localhost:8080/"
        },
        "id": "M0Fyfgns_rn5",
        "outputId": "94a476b6-3e6c-4d95-9fb1-057ce4cd8ff4"
      },
      "execution_count": null,
      "outputs": [
        {
          "output_type": "stream",
          "name": "stdout",
          "text": [
            "12\n",
            "15\n",
            "-14\n",
            "3\n",
            "3\n",
            "52\n"
          ]
        }
      ]
    },
    {
      "cell_type": "code",
      "source": [
        "# Membership operators\n",
        "x=\"Hello World\"\n",
        "print(\"w\"in x)\n",
        "print(\"e\" in x)"
      ],
      "metadata": {
        "colab": {
          "base_uri": "https://localhost:8080/"
        },
        "id": "bwYVHbNXBo8R",
        "outputId": "e7b57199-4ede-415a-cc14-89cbfcd936f5"
      },
      "execution_count": null,
      "outputs": [
        {
          "output_type": "stream",
          "name": "stdout",
          "text": [
            "False\n",
            "True\n"
          ]
        }
      ]
    },
    {
      "cell_type": "code",
      "source": [
        "#Identity operators\n",
        "a=5\n",
        "b=5\n",
        "x=\"Hello\"\n",
        "y=\"Hello\"\n",
        "i=[1,2,3]\n",
        "j=[1,2,3]\n",
        "print(a is not b)\n",
        "print(x is y)\n",
        "print(i is y) #i is stored in different location-address is not same"
      ],
      "metadata": {
        "colab": {
          "base_uri": "https://localhost:8080/"
        },
        "id": "qN0evVawB20x",
        "outputId": "f4ef48ba-1ac6-41e5-f856-744c51025f6c"
      },
      "execution_count": null,
      "outputs": [
        {
          "output_type": "stream",
          "name": "stdout",
          "text": [
            "False\n",
            "True\n",
            "False\n"
          ]
        }
      ]
    },
    {
      "cell_type": "code",
      "source": [
        "#Strings\n",
        "str=\"Helloo world\"\n",
        "#indexing\n",
        "print(str[0])\n",
        "print(str[-1])\n",
        "#slicing\n",
        "#from: to (n-1:2)\n",
        "print(str[0:7:2])"
      ],
      "metadata": {
        "colab": {
          "base_uri": "https://localhost:8080/"
        },
        "id": "Y9lFp8dHC9He",
        "outputId": "5c6f0849-ab0b-4158-b019-258c775bbdf3"
      },
      "execution_count": null,
      "outputs": [
        {
          "output_type": "stream",
          "name": "stdout",
          "text": [
            "H\n",
            "d\n",
            "Hlo \n"
          ]
        }
      ]
    },
    {
      "cell_type": "code",
      "source": [
        "#reverse a string\n",
        "print(str[::-1])"
      ],
      "metadata": {
        "colab": {
          "base_uri": "https://localhost:8080/"
        },
        "id": "FknIH92iDcUo",
        "outputId": "4c3950e3-5262-4a31-e9a4-32e24fbe2ff5"
      },
      "execution_count": null,
      "outputs": [
        {
          "output_type": "stream",
          "name": "stdout",
          "text": [
            "dlrow oolleH\n"
          ]
        }
      ]
    },
    {
      "cell_type": "code",
      "source": [
        "#string methods\n",
        "str=\"I am learning python\"\n",
        "print(str.upper())\n",
        "print(str.lower())\n",
        "print(str.swapcase())\n",
        "print(str.lstrip())"
      ],
      "metadata": {
        "colab": {
          "base_uri": "https://localhost:8080/"
        },
        "id": "L93fAIqTDcbh",
        "outputId": "78faed3d-39db-408c-983b-26f413bd399b"
      },
      "execution_count": null,
      "outputs": [
        {
          "output_type": "stream",
          "name": "stdout",
          "text": [
            "I AM LEARNING PYTHON\n",
            "i am learning python\n",
            "i AM LEARNING PYTHON\n",
            "I am learning python\n"
          ]
        }
      ]
    },
    {
      "cell_type": "code",
      "source": [
        "#string operations\n",
        "str1=\"Hii\"\n",
        "str2=\"Python\"\n",
        "print(str1 + str2)\n",
        "print(str1*2)"
      ],
      "metadata": {
        "colab": {
          "base_uri": "https://localhost:8080/"
        },
        "id": "MS_quG_zD0p-",
        "outputId": "5e5cbabe-0745-40d1-89f7-c1555967e0c6"
      },
      "execution_count": null,
      "outputs": [
        {
          "output_type": "stream",
          "name": "stdout",
          "text": [
            "HiiPython\n",
            "HiiHii\n"
          ]
        }
      ]
    },
    {
      "cell_type": "code",
      "source": [
        "#string formats\n",
        "name=\"Rakshitha\"\n",
        "language=\"Python\"\n",
        "year=2023\n",
        "print(name,\"is learning\",language,\"Programming in\",year)\n",
        "#print(\"{} is teaching {} programming is{}\",format(name,language,year))"
      ],
      "metadata": {
        "colab": {
          "base_uri": "https://localhost:8080/"
        },
        "id": "7vRrHLkQEKjU",
        "outputId": "5331652e-2874-4eb4-fba0-40a29d61c0af"
      },
      "execution_count": null,
      "outputs": [
        {
          "output_type": "stream",
          "name": "stdout",
          "text": [
            "Rakshitha is learning Python Programming in 2023\n"
          ]
        }
      ]
    },
    {
      "cell_type": "code",
      "source": [
        "#place holder '%'\n",
        "print(\"%s is learning %s programming in %d\" %(name,language,year))"
      ],
      "metadata": {
        "colab": {
          "base_uri": "https://localhost:8080/"
        },
        "id": "UuG301zFEwTB",
        "outputId": "ac970e7c-2221-4918-b541-4ba47d50b00d"
      },
      "execution_count": null,
      "outputs": [
        {
          "output_type": "stream",
          "name": "stdout",
          "text": [
            "Rakshitha is learning Python programming in 2023\n"
          ]
        }
      ]
    },
    {
      "cell_type": "code",
      "source": [
        "#rawstring 'f'\n",
        "print(f\"{name} is learning {language} programming in {year}\")"
      ],
      "metadata": {
        "colab": {
          "base_uri": "https://localhost:8080/"
        },
        "id": "XCgvf0QXFo52",
        "outputId": "6c10bbdb-eece-4e66-f668-67c21ce21b8f"
      },
      "execution_count": null,
      "outputs": [
        {
          "output_type": "stream",
          "name": "stdout",
          "text": [
            "Rakshitha is learning Python programming in 2023\n"
          ]
        }
      ]
    },
    {
      "cell_type": "code",
      "source": [
        "#Lists\n",
        "l=[1,2,3,4]\n",
        "l1=[1,\"Hello\",\"5.2\"]\n",
        "l2=[\"apple\",'banana','cherry']\n",
        "#indexing\n",
        "print(l[2])\n",
        "print(l[-1])\n",
        "print(l1[2])\n",
        "print(l2[1])\n",
        "#slicing\n",
        "print(l[:3])"
      ],
      "metadata": {
        "colab": {
          "base_uri": "https://localhost:8080/"
        },
        "id": "eBpK6x51F0WX",
        "outputId": "b9862c98-d512-4cf6-a726-f8843dfd9287"
      },
      "execution_count": null,
      "outputs": [
        {
          "output_type": "stream",
          "name": "stdout",
          "text": [
            "3\n",
            "4\n",
            "5.2\n",
            "banana\n",
            "[1, 2, 3]\n"
          ]
        }
      ]
    },
    {
      "cell_type": "code",
      "source": [
        "#nested list\n",
        "list=[\"dragonfruit\",l,l[1]]\n",
        "list1=[1,2,3,4]\n",
        "list2=[1,\"hello\",\"3.0\"]\n",
        "print(list[0][0::6])"
      ],
      "metadata": {
        "colab": {
          "base_uri": "https://localhost:8080/"
        },
        "id": "jFxjbDs4GjjB",
        "outputId": "0bc2197e-942d-46a1-d7cf-8a44756d0e7a"
      },
      "execution_count": null,
      "outputs": [
        {
          "output_type": "stream",
          "name": "stdout",
          "text": [
            "df\n"
          ]
        }
      ]
    },
    {
      "cell_type": "code",
      "source": [
        "#List method\n",
        "list.append(5)\n",
        "print(list)\n",
        "L1=[4,2,5,9,7,3,2,4,49,5,5,9,5]\n",
        "print(L1.count(4))\n",
        "print(len(L1))\n",
        "print(L1[::-1])\n",
        "L1.reverse()\n",
        "print(L1)\n",
        "L1.sort()\n",
        "print(L1)"
      ],
      "metadata": {
        "colab": {
          "base_uri": "https://localhost:8080/"
        },
        "id": "xZb1Hr9hGjwO",
        "outputId": "753c3538-1fbd-4a7f-cffb-6f93ed5bc42c"
      },
      "execution_count": null,
      "outputs": [
        {
          "output_type": "stream",
          "name": "stdout",
          "text": [
            "['dragonfruit', [1, 2, 3, 4], 2, 5, 5]\n",
            "2\n",
            "13\n",
            "[5, 9, 5, 5, 49, 4, 2, 3, 7, 9, 5, 2, 4]\n",
            "[5, 9, 5, 5, 49, 4, 2, 3, 7, 9, 5, 2, 4]\n",
            "[2, 2, 3, 4, 4, 5, 5, 5, 5, 7, 9, 9, 49]\n"
          ]
        }
      ]
    },
    {
      "cell_type": "code",
      "source": [
        "dir(list) #gets all directories present in list"
      ],
      "metadata": {
        "colab": {
          "base_uri": "https://localhost:8080/"
        },
        "id": "ES2gg7RIH_Gp",
        "outputId": "ae527cfd-098b-4797-fefd-b321a9366253"
      },
      "execution_count": null,
      "outputs": [
        {
          "output_type": "execute_result",
          "data": {
            "text/plain": [
              "['__add__',\n",
              " '__class__',\n",
              " '__contains__',\n",
              " '__delattr__',\n",
              " '__delitem__',\n",
              " '__dir__',\n",
              " '__doc__',\n",
              " '__eq__',\n",
              " '__format__',\n",
              " '__ge__',\n",
              " '__getattribute__',\n",
              " '__getitem__',\n",
              " '__gt__',\n",
              " '__hash__',\n",
              " '__iadd__',\n",
              " '__imul__',\n",
              " '__init__',\n",
              " '__init_subclass__',\n",
              " '__iter__',\n",
              " '__le__',\n",
              " '__len__',\n",
              " '__lt__',\n",
              " '__mul__',\n",
              " '__ne__',\n",
              " '__new__',\n",
              " '__reduce__',\n",
              " '__reduce_ex__',\n",
              " '__repr__',\n",
              " '__reversed__',\n",
              " '__rmul__',\n",
              " '__setattr__',\n",
              " '__setitem__',\n",
              " '__sizeof__',\n",
              " '__str__',\n",
              " '__subclasshook__',\n",
              " 'append',\n",
              " 'clear',\n",
              " 'copy',\n",
              " 'count',\n",
              " 'extend',\n",
              " 'index',\n",
              " 'insert',\n",
              " 'pop',\n",
              " 'remove',\n",
              " 'reverse',\n",
              " 'sort']"
            ]
          },
          "metadata": {},
          "execution_count": 66
        }
      ]
    },
    {
      "cell_type": "code",
      "source": [
        "l1=[1,2,3,4,5]\n",
        "l2=l1\n",
        "l3=[1,2,3,4,5]\n",
        "print(l1==l2)\n",
        "print(l1==l3)\n",
        "print(l1 is l2)\n",
        "print(l1 is l3)\n",
        "print(id(l1))\n",
        "print(id(l2))\n",
        "print(id(l3))"
      ],
      "metadata": {
        "colab": {
          "base_uri": "https://localhost:8080/"
        },
        "id": "gZv0DbUYIQ1j",
        "outputId": "3dcab01a-473e-43da-dc0e-2608f65f38a8"
      },
      "execution_count": null,
      "outputs": [
        {
          "output_type": "stream",
          "name": "stdout",
          "text": [
            "True\n",
            "True\n",
            "True\n",
            "False\n",
            "140344670151552\n",
            "140344670151552\n",
            "140344670227008\n"
          ]
        }
      ]
    }
  ]
}