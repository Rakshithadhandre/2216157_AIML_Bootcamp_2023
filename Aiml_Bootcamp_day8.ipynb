{
  "nbformat": 4,
  "nbformat_minor": 0,
  "metadata": {
    "colab": {
      "provenance": [],
      "authorship_tag": "ABX9TyNhT2iZAVoBl1znA3gCEMR3",
      "include_colab_link": true
    },
    "kernelspec": {
      "name": "python3",
      "display_name": "Python 3"
    },
    "language_info": {
      "name": "python"
    }
  },
  "cells": [
    {
      "cell_type": "markdown",
      "metadata": {
        "id": "view-in-github",
        "colab_type": "text"
      },
      "source": [
        "<a href=\"https://colab.research.google.com/github/Rakshithadhandre/2216157_AIML_Bootcamp_2023/blob/main/Aiml_Bootcamp_day8.ipynb\" target=\"_parent\"><img src=\"https://colab.research.google.com/assets/colab-badge.svg\" alt=\"Open In Colab\"/></a>"
      ]
    },
    {
      "cell_type": "code",
      "execution_count": 83,
      "metadata": {
        "id": "Xu9q4bKssML4"
      },
      "outputs": [],
      "source": [
        "#File handling--open files, perform operations, close files\n",
        "#file object=open(\"file name\",\"mode\")\n",
        "#modes\n",
        "#x=create\n",
        "#r=read\n",
        "#w=write\n",
        "#r+=reads and writes\n",
        "#w+=write and read\n",
        "#rb=read binary\n",
        "#wb=write binary\n",
        "#rb+ =read and write binary\n",
        "#wb+ =write and read binary\n",
        "#a=appends\n",
        "#a+ =append and read\n",
        "#ab =append binary\n",
        "#ab+ =append and read binary\n",
        "\n"
      ]
    },
    {
      "cell_type": "code",
      "source": [
        "f=open(\"sample.txt\",\"x\")#file creation"
      ],
      "metadata": {
        "id": "cfQ30nbWsOKk"
      },
      "execution_count": 1,
      "outputs": []
    },
    {
      "cell_type": "code",
      "source": [
        "f=open(\"sample.txt\",\"w\")\n",
        "f.write(\"Welcome to python programming\")\n",
        "f.close()"
      ],
      "metadata": {
        "id": "3CR_evkpsT8V"
      },
      "execution_count": 2,
      "outputs": []
    },
    {
      "cell_type": "code",
      "source": [
        "f=open(\"ex.txt\",\"x\")"
      ],
      "metadata": {
        "id": "oqb3cW-xsZ-f"
      },
      "execution_count": 3,
      "outputs": []
    },
    {
      "cell_type": "code",
      "source": [
        "#for deleting ex.txt\n",
        "import os\n",
        "os.remove(\"ex.txt\")"
      ],
      "metadata": {
        "id": "QONVaWjOsc-c"
      },
      "execution_count": 4,
      "outputs": []
    },
    {
      "cell_type": "code",
      "source": [
        "f=open(\"sample.txt\",\"r\")\n",
        "print(f.read(3))#cursor position\n",
        "print(f.tell())\n",
        "print(f.seek(2))#change in cursor position to desired position\n",
        "print(f.seek(0))\n",
        "print(f.readline())#reads the first line\n",
        "print(f.readlines())#should have multiple lines in a file\n",
        "f.close()"
      ],
      "metadata": {
        "colab": {
          "base_uri": "https://localhost:8080/"
        },
        "id": "6A0EXQwfsd7j",
        "outputId": "6dc371c5-d8f8-469c-854d-498c01572a3a"
      },
      "execution_count": 5,
      "outputs": [
        {
          "output_type": "stream",
          "name": "stdout",
          "text": [
            "Wel\n",
            "3\n",
            "2\n",
            "0\n",
            "Welcome to python programming\n",
            "[]\n"
          ]
        }
      ]
    },
    {
      "cell_type": "code",
      "source": [
        "f1=open(\"f1.txt\",\"w\")\n",
        "f1.write(\"COPYPASTE\")\n",
        "f1.close()"
      ],
      "metadata": {
        "id": "xUN0dDuusrDn"
      },
      "execution_count": 8,
      "outputs": []
    },
    {
      "cell_type": "code",
      "source": [
        "f1=open(\"f1.txt\",\"r\")\n",
        "temp=f1.read()#read will print the entire thing present in the file\n",
        "f1.close()\n",
        "\n",
        "f2=open(\"f2.txt\",\"w\")\n",
        "f2.write(temp)\n",
        "f2.close()\n"
      ],
      "metadata": {
        "id": "JeE90gFBthDy"
      },
      "execution_count": 11,
      "outputs": []
    },
    {
      "cell_type": "code",
      "source": [
        "#append\n",
        "import os\n",
        "#append\n",
        "f2=open(\"f2.txt\",\"a\")\n",
        "f2.write(\"done from f1 file\")\n",
        "f2=open(\"f2.txt\",\"r\")\n",
        "tem=f2.read()\n",
        "f2.close()\n",
        "\n"
      ],
      "metadata": {
        "id": "F4k7CPuGuIjG"
      },
      "execution_count": 70,
      "outputs": []
    },
    {
      "cell_type": "code",
      "source": [
        "#reverse palindrome-reversing number and checking whether it is a palindrome or not\n",
        "p1=open(\"f1.txt\",\"w\")\n",
        "p1.write(\"DAD\")\n",
        "p1=open(\"f1.txt\",\"r\")\n",
        "temp=p1.read()\n",
        "t2=(temp[::-1])\n",
        "print(t2)\n",
        "if(temp==t2):\n",
        "  print(\"The given number is PALINDROME\")\n",
        "else:\n",
        "  print(\"The given number is NOT a PALINDROME\")\n",
        "p1.close()\n"
      ],
      "metadata": {
        "colab": {
          "base_uri": "https://localhost:8080/"
        },
        "id": "MHUk6FgD6XIl",
        "outputId": "c2fe7c00-238e-418e-d426-5930a952f9a6"
      },
      "execution_count": 69,
      "outputs": [
        {
          "output_type": "stream",
          "name": "stdout",
          "text": [
            "DAD\n",
            "The given number is PALINDROME\n"
          ]
        }
      ]
    },
    {
      "cell_type": "code",
      "source": [
        "#check if it an Armstrong or not\n",
        "f1=open(\"f1.txt\",\"w\")\n",
        "f1.write(\" \")\n",
        "f1=open(\"f1.txt\",\"r\")\n",
        "n1=f1.read()\n",
        "num = int(input(\"Enter a number: \"))\n",
        "sum = 0\n",
        "# find the sum of the cube of each digit\n",
        "temp = num\n",
        "while temp > 0:\n",
        "   digit = temp % 10\n",
        "   sum += digit ** 3\n",
        "   temp //= 10\n",
        "\n",
        "# display the result\n",
        "if num == sum:\n",
        "   print(num,\"is an Armstrong number\")\n",
        "else:\n",
        "   print(num,\"is not an Armstrong number\")\n",
        "\n"
      ],
      "metadata": {
        "colab": {
          "base_uri": "https://localhost:8080/"
        },
        "id": "dtuXSL5j1ZHL",
        "outputId": "8616c7fd-ac24-4a06-ba1d-330abe896ccd"
      },
      "execution_count": 55,
      "outputs": [
        {
          "output_type": "stream",
          "name": "stdout",
          "text": [
            "Enter a number: 407\n",
            "407 is an Armstrong number\n"
          ]
        }
      ]
    },
    {
      "cell_type": "code",
      "source": [
        "#create a dictionary and convert elements into lists\n",
        "d=open(\"d1.txt\",\"w\")\n",
        "d.write(\"Hello\")\n",
        "d=open(\"d1.txt\",\"r\")\n",
        "temp=d.read()\n",
        "inputDictionary = {'Hello': 1, 'Python': 2, 'BootCamp': 3}\n",
        "# converting input dictionary items(key-value pair)to a list of tuples\n",
        "List = list(inputDictionary.items())\n",
        "# printing the list of dictionary\n",
        "print(List)"
      ],
      "metadata": {
        "colab": {
          "base_uri": "https://localhost:8080/"
        },
        "id": "Ze1qZ20K-LI4",
        "outputId": "35eb0a7d-ebf5-4cca-9996-b76c311b351c"
      },
      "execution_count": 81,
      "outputs": [
        {
          "output_type": "stream",
          "name": "stdout",
          "text": [
            "[('Hello', 1), ('Python', 2), ('BootCamp', 3)]\n"
          ]
        }
      ]
    },
    {
      "cell_type": "code",
      "source": [
        "#pickling\n",
        "import pickle\n",
        "my_list=['a','b','c','d','e']\n",
        "f3=open(\"datafile.txt\",\"wb\")\n",
        "pickle.dump(my_list,f3)\n",
        "f3.close()\n",
        "\n",
        "#unpickling-(binary format) coverts into normal list o/p:list\n",
        "import pickle\n",
        "pickle_off=open(\"datafile.txt\",\"rb\")\n",
        "e=pickle.load(pickle_off)\n",
        "print(e)"
      ],
      "metadata": {
        "colab": {
          "base_uri": "https://localhost:8080/"
        },
        "id": "XVK1SuFlu51x",
        "outputId": "f183b51a-3d72-4fcd-f597-d2bda2d146ca"
      },
      "execution_count": 21,
      "outputs": [
        {
          "output_type": "stream",
          "name": "stdout",
          "text": [
            "['a', 'b', 'c', 'd', 'e']\n"
          ]
        }
      ]
    }
  ]
}