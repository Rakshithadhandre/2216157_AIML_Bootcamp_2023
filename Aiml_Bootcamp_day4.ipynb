{
  "nbformat": 4,
  "nbformat_minor": 0,
  "metadata": {
    "colab": {
      "provenance": [],
      "authorship_tag": "ABX9TyMn31JtzFa5qAfVyl8gHlmS",
      "include_colab_link": true
    },
    "kernelspec": {
      "name": "python3",
      "display_name": "Python 3"
    },
    "language_info": {
      "name": "python"
    }
  },
  "cells": [
    {
      "cell_type": "markdown",
      "metadata": {
        "id": "view-in-github",
        "colab_type": "text"
      },
      "source": [
        "<a href=\"https://colab.research.google.com/github/Rakshithadhandre/2216157_AIML_Bootcamp_2023/blob/main/Aiml_Bootcamp_day4.ipynb\" target=\"_parent\"><img src=\"https://colab.research.google.com/assets/colab-badge.svg\" alt=\"Open In Colab\"/></a>"
      ]
    },
    {
      "cell_type": "code",
      "execution_count": null,
      "metadata": {
        "colab": {
          "base_uri": "https://localhost:8080/"
        },
        "id": "vGx2YbSDrsCo",
        "outputId": "1618e35c-cf95-4bae-b7cb-8182808d9051"
      },
      "outputs": [
        {
          "output_type": "stream",
          "name": "stdout",
          "text": [
            "True\n",
            "100\n",
            "False\n"
          ]
        }
      ],
      "source": [
        "#Decision making\n",
        "#if statement\n",
        "var=100\n",
        "if var>0:\n",
        "  print(\"True\")\n",
        "  print(var)\n",
        "\n",
        "#if--else statement\n",
        "var=-1\n",
        "if var>0:\n",
        "  print(\"True\")\n",
        "else:\n",
        "  print(\"False\")\n"
      ]
    },
    {
      "cell_type": "code",
      "source": [
        "#nested if statements\n",
        "age=int(input(\"Enter Age:\"))\n",
        "if age>0:\n",
        "  if age>0 and age<=2:\n",
        "        print(\"free ticket\")\n",
        "  elif age>2 and age<15:\n",
        "        print(\"half ticket\")\n",
        "  elif age>=15 and age<60:\n",
        "        print(\"full ticket\")\n",
        "  elif age>=60:\n",
        "        print(\"disconnected ticket\")"
      ],
      "metadata": {
        "colab": {
          "base_uri": "https://localhost:8080/"
        },
        "id": "FLMDrfEBtrYQ",
        "outputId": "857e5503-7058-4a27-c7ff-a639771df728"
      },
      "execution_count": null,
      "outputs": [
        {
          "output_type": "stream",
          "name": "stdout",
          "text": [
            "Enter Age:19\n",
            "full ticket\n"
          ]
        }
      ]
    },
    {
      "cell_type": "code",
      "source": [
        "#python loops\n",
        "numbers=[1,2,3,4,5,6,7,8,9,10]\n",
        "for i in range(1,11): #(1,n-1)\n",
        "  print(i)\n",
        "\n",
        "sum=0\n",
        "for val in numbers:\n",
        "  sum=sum+val\n",
        "print(\"sum:\",sum)\n",
        "\n",
        "for i in range(1,11,3):\n",
        "  print(i)"
      ],
      "metadata": {
        "colab": {
          "base_uri": "https://localhost:8080/"
        },
        "id": "DYaj6yPQz_rD",
        "outputId": "479d3169-53ec-4a5a-eaeb-6f80144af612"
      },
      "execution_count": 4,
      "outputs": [
        {
          "output_type": "stream",
          "name": "stdout",
          "text": [
            "1\n",
            "2\n",
            "3\n",
            "4\n",
            "5\n",
            "6\n",
            "7\n",
            "8\n",
            "9\n",
            "10\n",
            "sum: 55\n",
            "1\n",
            "4\n",
            "7\n",
            "10\n"
          ]
        }
      ]
    },
    {
      "cell_type": "code",
      "source": [
        "from typing_extensions import Counter\n",
        "#while loop -used for large data\n",
        "count=1\n",
        "while(count<6):\n",
        "  print(count)\n",
        "  count=count+1"
      ],
      "metadata": {
        "id": "HC8xbXp2yv0K",
        "colab": {
          "base_uri": "https://localhost:8080/"
        },
        "outputId": "96347096-a3d4-4bf3-d7a0-a1139b6b2e4a"
      },
      "execution_count": 6,
      "outputs": [
        {
          "output_type": "stream",
          "name": "stdout",
          "text": [
            "1\n",
            "2\n",
            "3\n",
            "4\n",
            "5\n"
          ]
        }
      ]
    },
    {
      "cell_type": "code",
      "source": [
        "#nested loop\n",
        "\n",
        "#nested for\n",
        "x=[[12,7,3],[4,5,6],[7,8,6]]\n",
        "y=[[4,8,12],[1,1,0],[5,3,0]]\n",
        "res=[[0,0,0],[0,0,0],[0,0,0]]\n",
        "\n",
        "for i in range(len(x)):\n",
        "  for j in range(len(x[0])):\n",
        "    res[i][j]=x[i][j]+y[i][j]\n",
        "for r in res:\n",
        "  print(r)"
      ],
      "metadata": {
        "colab": {
          "base_uri": "https://localhost:8080/"
        },
        "id": "F4fQhvbNNEU9",
        "outputId": "45d79db4-7a0f-4b36-cd3a-9b55d0b4ceaf"
      },
      "execution_count": 16,
      "outputs": [
        {
          "output_type": "stream",
          "name": "stdout",
          "text": [
            "[16, 15, 15]\n",
            "[5, 6, 6]\n",
            "[12, 11, 6]\n"
          ]
        }
      ]
    },
    {
      "cell_type": "code",
      "source": [
        "#nested while loop\n",
        "num=int(input(\"enter until which table you need\"))\n",
        "i=1\n",
        "while(i<=num):\n",
        "  print(f\"table {i}\")\n",
        "  j=1\n",
        "  while(j<=10):\n",
        "    print(f\"{i}*{j}={i*j}\")\n",
        "    j=j+1\n",
        "  print(\"___________________\")\n",
        "  i=i+1"
      ],
      "metadata": {
        "colab": {
          "base_uri": "https://localhost:8080/"
        },
        "id": "JVuGayMwLvIX",
        "outputId": "35f625ed-bc62-4129-a9c3-c8bd460c158d"
      },
      "execution_count": 20,
      "outputs": [
        {
          "output_type": "stream",
          "name": "stdout",
          "text": [
            "enter until which table you need5\n",
            "table 1\n",
            "1*1=1\n",
            "1*2=2\n",
            "1*3=3\n",
            "1*4=4\n",
            "1*5=5\n",
            "1*6=6\n",
            "1*7=7\n",
            "1*8=8\n",
            "1*9=9\n",
            "1*10=10\n",
            "___________________\n",
            "table 2\n",
            "2*1=2\n",
            "2*2=4\n",
            "2*3=6\n",
            "2*4=8\n",
            "2*5=10\n",
            "2*6=12\n",
            "2*7=14\n",
            "2*8=16\n",
            "2*9=18\n",
            "2*10=20\n",
            "___________________\n",
            "table 3\n",
            "3*1=3\n",
            "3*2=6\n",
            "3*3=9\n",
            "3*4=12\n",
            "3*5=15\n",
            "3*6=18\n",
            "3*7=21\n",
            "3*8=24\n",
            "3*9=27\n",
            "3*10=30\n",
            "___________________\n",
            "table 4\n",
            "4*1=4\n",
            "4*2=8\n",
            "4*3=12\n",
            "4*4=16\n",
            "4*5=20\n",
            "4*6=24\n",
            "4*7=28\n",
            "4*8=32\n",
            "4*9=36\n",
            "4*10=40\n",
            "___________________\n",
            "table 5\n",
            "5*1=5\n",
            "5*2=10\n",
            "5*3=15\n",
            "5*4=20\n",
            "5*5=25\n",
            "5*6=30\n",
            "5*7=35\n",
            "5*8=40\n",
            "5*9=45\n",
            "5*10=50\n",
            "___________________\n"
          ]
        }
      ]
    },
    {
      "cell_type": "code",
      "source": [
        "#control statements\n",
        "\n",
        "#break\n",
        "for q in \"python\":\n",
        "  if(q==\"h\"):\n",
        "    break\n",
        "  print(\"current letter\",q )\n",
        "print(\"______________________________\")\n",
        "\n",
        "#continue\n",
        "for q in \"python\":\n",
        "  if(q==\"h\"):\n",
        "    continue\n",
        "  print(\"current letter\",q)\n",
        "print(\"______________________________\")\n",
        "\n",
        "#pass\n",
        "for q in \"python\":\n",
        "  if(q==\"h\"):\n",
        "    pass\n",
        "    print(\"this is a pass block\")\n",
        "  print(\"current letter\",q)"
      ],
      "metadata": {
        "colab": {
          "base_uri": "https://localhost:8080/"
        },
        "id": "SBWt3U7ZN4Tr",
        "outputId": "0548c733-d9ad-4c5c-fcdd-d6d33cea9320"
      },
      "execution_count": 22,
      "outputs": [
        {
          "output_type": "stream",
          "name": "stdout",
          "text": [
            "current letter p\n",
            "current letter y\n",
            "current letter t\n",
            "______________________________\n",
            "current letter p\n",
            "current letter y\n",
            "current letter t\n",
            "current letter o\n",
            "current letter n\n",
            "______________________________\n",
            "current letter p\n",
            "current letter y\n",
            "current letter t\n",
            "this is a pass block\n",
            "current letter h\n",
            "current letter o\n",
            "current letter n\n"
          ]
        }
      ]
    },
    {
      "cell_type": "code",
      "source": [
        "#functions\n",
        "\n",
        "def greet(name):\n",
        "  '''this function greets a person'''\n",
        "  print(\"HELLO, \\t \"+name+ \"\\t good morning\")\n",
        "greet(\"Rakshitha\")"
      ],
      "metadata": {
        "colab": {
          "base_uri": "https://localhost:8080/"
        },
        "id": "Bscp9sKuPwqo",
        "outputId": "980d10a4-5ad5-4b3a-9d5a-1a1b5bf21313"
      },
      "execution_count": 23,
      "outputs": [
        {
          "output_type": "stream",
          "name": "stdout",
          "text": [
            "HELLO, \t Rakshitha\t good morning\n"
          ]
        }
      ]
    },
    {
      "cell_type": "code",
      "source": [
        "#default\n",
        "def A(a,b=1,c=2):\n",
        "  return a+b+c\n",
        "  \n",
        "print(A(3))\n",
        "print(A(4,4,4))"
      ],
      "metadata": {
        "colab": {
          "base_uri": "https://localhost:8080/"
        },
        "id": "yd9ytRP_P7jx",
        "outputId": "52de2a45-9853-4a7a-e0e2-7b6544c9271a"
      },
      "execution_count": 27,
      "outputs": [
        {
          "output_type": "stream",
          "name": "stdout",
          "text": [
            "6\n",
            "12\n"
          ]
        }
      ]
    },
    {
      "cell_type": "code",
      "source": [
        "#keyword\n",
        "def A(a,b=1,c=2):\n",
        "    return a+b+c\n",
        "    \n",
        "print(A(a=2,b=3))\n",
        "print(A(c=3,a=1,b=2))"
      ],
      "metadata": {
        "colab": {
          "base_uri": "https://localhost:8080/"
        },
        "id": "ug20ocwEQSuR",
        "outputId": "4aae179f-03b3-44b6-8bf3-e3920431b7e2"
      },
      "execution_count": 28,
      "outputs": [
        {
          "output_type": "stream",
          "name": "stdout",
          "text": [
            "7\n",
            "6\n"
          ]
        }
      ]
    },
    {
      "cell_type": "code",
      "source": [
        "#positional\n",
        "def A(a,b,c):\n",
        "  return a+b+c\n",
        "print(A(10,20,30))"
      ],
      "metadata": {
        "colab": {
          "base_uri": "https://localhost:8080/"
        },
        "id": "H0iNt5PIQnVO",
        "outputId": "4c78ff7f-6518-4842-bddb-ed81e80e1210"
      },
      "execution_count": 31,
      "outputs": [
        {
          "output_type": "stream",
          "name": "stdout",
          "text": [
            "60\n"
          ]
        }
      ]
    },
    {
      "cell_type": "code",
      "source": [
        "#arbitrary positional\n",
        "def add_num(*n):\n",
        "  print(sum(n))\n",
        "  add_num(1,2,3,4,5)\n",
        "  "
      ],
      "metadata": {
        "id": "cpzfI_sSQqep"
      },
      "execution_count": 60,
      "outputs": []
    },
    {
      "cell_type": "code",
      "source": [
        "#arbitrary keywords\n",
        "def key_args(**kwargs):\n",
        "  return kwargs\n",
        "myd=key_args(Apples=30,Bananas=40,cherries=50)\n",
        "print(myd['Apples'])\n",
        "print(myd)\n",
        "     "
      ],
      "metadata": {
        "colab": {
          "base_uri": "https://localhost:8080/"
        },
        "id": "7CLDgMrERROZ",
        "outputId": "086e974d-2438-4508-949f-cd431c271fbf"
      },
      "execution_count": 34,
      "outputs": [
        {
          "output_type": "stream",
          "name": "stdout",
          "text": [
            "30\n",
            "{'Apples': 30, 'Bananas': 40, 'cherries': 50}\n"
          ]
        }
      ]
    },
    {
      "cell_type": "code",
      "source": [
        "#higher order functions\n",
        "def shout(text):\n",
        "  return text.upper()\n",
        "def whisper(text):\n",
        "  return text.lower()\n",
        "def explain(func):\n",
        "  greet=func(\"HI ,I am HiGHer OrDeR fUnCtion\")\n",
        "  print(greet)\n",
        "\n",
        "explain(shout)\n",
        "explain(whisper)"
      ],
      "metadata": {
        "colab": {
          "base_uri": "https://localhost:8080/"
        },
        "id": "Q9-Ean-BRcvr",
        "outputId": "ee3039d6-4cc4-4dad-8aaf-5d4302a4bb74"
      },
      "execution_count": 36,
      "outputs": [
        {
          "output_type": "stream",
          "name": "stdout",
          "text": [
            "HI ,I AM HIGHER ORDER FUNCTION\n",
            "hi ,i am higher order function\n"
          ]
        }
      ]
    }
  ]
}